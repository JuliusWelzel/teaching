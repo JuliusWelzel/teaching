{
 "cells": [
  {
   "cell_type": "code",
   "execution_count": 1,
   "id": "2c93b183",
   "metadata": {},
   "outputs": [],
   "source": [
    "import numpy as np"
   ]
  },
  {
   "cell_type": "code",
   "execution_count": 5,
   "id": "b8d9fb9d",
   "metadata": {},
   "outputs": [
    {
     "data": {
      "text/plain": [
       "array([-4, -6])"
      ]
     },
     "execution_count": 5,
     "metadata": {},
     "output_type": "execute_result"
    }
   ],
   "source": [
    "v1 = np.array([-4,-2]).T\n",
    "v2 = np.array([1,3])\n",
    "\n",
    "dp = np.dot(v1,v2)\n",
    "dp\n",
    "\n",
    "em = v1 * v2\n",
    "em"
   ]
  },
  {
   "cell_type": "code",
   "execution_count": 16,
   "id": "c0e594c4",
   "metadata": {},
   "outputs": [
    {
     "data": {
      "text/plain": [
       "array([0.2981424 , 0.74535599, 0.59628479])"
      ]
     },
     "execution_count": 16,
     "metadata": {},
     "output_type": "execute_result"
    }
   ],
   "source": [
    "# a friendly vector\n",
    "v = np.array([2,5,4])\n",
    "\n",
    "# its norm\n",
    "vMag = np.linalg.norm(v)\n",
    "\n",
    "# the unit vector\n",
    "v_unit = v / vMag\n",
    "v_unit\n",
    "\n"
   ]
  }
 ],
 "metadata": {
  "kernelspec": {
   "display_name": "Python 3",
   "language": "python",
   "name": "python3"
  },
  "language_info": {
   "codemirror_mode": {
    "name": "ipython",
    "version": 3
   },
   "file_extension": ".py",
   "mimetype": "text/x-python",
   "name": "python",
   "nbconvert_exporter": "python",
   "pygments_lexer": "ipython3",
   "version": "3.8.8"
  }
 },
 "nbformat": 4,
 "nbformat_minor": 5
}
