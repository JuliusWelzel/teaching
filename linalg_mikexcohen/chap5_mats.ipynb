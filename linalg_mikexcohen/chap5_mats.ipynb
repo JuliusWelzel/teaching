{
 "cells": [
  {
   "cell_type": "code",
   "execution_count": 16,
   "id": "40dfa4bc",
   "metadata": {},
   "outputs": [],
   "source": [
    "## import libraries for the entire chapter\n",
    "import numpy as np\n",
    "from scipy.linalg import hankel,toeplitz\n",
    "import matplotlib.pyplot as plt"
   ]
  },
  {
   "cell_type": "code",
   "execution_count": 6,
   "id": "8cfba861",
   "metadata": {},
   "outputs": [
    {
     "data": {
      "text/plain": [
       "array([[1., 0., 0., 0.],\n",
       "       [0., 1., 0., 0.],\n",
       "       [0., 0., 1., 0.],\n",
       "       [0., 0., 0., 1.]])"
      ]
     },
     "execution_count": 6,
     "metadata": {},
     "output_type": "execute_result"
    }
   ],
   "source": [
    "# identity matrix\n",
    "I = np.eye(4)\n",
    "\n",
    "# ones matrix\n",
    "O = np.ones(4)\n",
    "\n",
    "# zeros matrix (note the tuple input)\n",
    "Z = np.zeros((4,4))\n",
    "I"
   ]
  },
  {
   "cell_type": "code",
   "execution_count": 9,
   "id": "e3b15b0c",
   "metadata": {},
   "outputs": [
    {
     "data": {
      "text/plain": [
       "array([[1, 0, 0, 0],\n",
       "       [0, 2, 0, 0],\n",
       "       [0, 0, 3, 0],\n",
       "       [0, 0, 0, 5]])"
      ]
     },
     "execution_count": 9,
     "metadata": {},
     "output_type": "execute_result"
    }
   ],
   "source": [
    "# diagonal matrix\n",
    "D = np.diag([1,2,3,5]) \n",
    "\n",
    "# diagonal elements\n",
    "R = np.random.randn(3,4)\n",
    "d = np.diag(R) \n",
    "D"
   ]
  },
  {
   "cell_type": "code",
   "execution_count": 12,
   "id": "c2449d00",
   "metadata": {},
   "outputs": [
    {
     "data": {
      "text/plain": [
       "array([[1, 2, 3, 4],\n",
       "       [2, 3, 4, 3],\n",
       "       [3, 4, 3, 4],\n",
       "       [4, 3, 4, 1]])"
      ]
     },
     "execution_count": 12,
     "metadata": {},
     "output_type": "execute_result"
    }
   ],
   "source": [
    "# the vector\n",
    "t = [1,2,3,4]\n",
    "\n",
    "# the matrices (functions imported from scipy at top of script)\n",
    "T = toeplitz(t)\n",
    "H = hankel(t,r=[2,3,4,1])\n",
    "H"
   ]
  },
  {
   "cell_type": "code",
   "execution_count": 34,
   "id": "93db6bde",
   "metadata": {},
   "outputs": [
    {
     "data": {
      "text/plain": [
       "array([2.01944103, 3.20548944, 4.09706924, 5.87315567])"
      ]
     },
     "execution_count": 34,
     "metadata": {},
     "output_type": "execute_result"
    },
    {
     "data": {
      "image/png": "[encoded data removed]",
      "text/plain": [
       "<Figure size 432x288 with 2 Axes>"
      ]
     },
     "metadata": {
      "needs_background": "light"
     },
     "output_type": "display_data"
    }
   ],
   "source": [
    "sz_mat = 4\n",
    "# lambda\n",
    "l = 5\n",
    "\n",
    "# I\n",
    "I = np.eye(sz_mat)\n",
    "\n",
    "# the shifted matrix\n",
    "A = np.random.randn(sz_mat,sz_mat)\n",
    "As = A + l*I\n",
    "\n",
    "fig, (ax_org, ax_shift) = plt.subplots(1,2)\n",
    "ax_org.imshow(A)\n",
    "ax_org.set_title('Orginal')\n",
    "ax_shift.imshow(As)\n",
    "ax_shift.set_title('Shifted')\n",
    "\n",
    "\n"
   ]
  }
 ],
 "metadata": {
  "kernelspec": {
   "display_name": "Python 3",
   "language": "python",
   "name": "python3"
  },
  "language_info": {
   "codemirror_mode": {
    "name": "ipython",
    "version": 3
   },
   "file_extension": ".py",
   "mimetype": "text/x-python",
   "name": "python",
   "nbconvert_exporter": "python",
   "pygments_lexer": "ipython3",
   "version": "3.8.8"
  }
 },
 "nbformat": 4,
 "nbformat_minor": 5
}
